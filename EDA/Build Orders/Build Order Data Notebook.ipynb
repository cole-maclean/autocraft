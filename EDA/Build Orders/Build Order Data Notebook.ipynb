{
 "cells": [
  {
   "cell_type": "markdown",
   "metadata": {},
   "source": [
    "<h1>Evolving the StarCraftII Build Order Meta with Neural Networks</h1>\n",
    "\n",
    "<h2>Introduction</h2>\n",
    "Google's Artificial Intelligence research group, [DeepMind](https://deepmind.com/) recently released a python API, [pySC2](https://github.com/deepmind/pysc2) for the popular Real Time Strategy (RTS) computer game, [StarCraftII](http://us.battle.net/sc2/en/). After successfully conquering the boardgame, Go, with their AlphaGo program, [DeepMind has set their sights](https://deepmind.com/blog/deepmind-and-blizzard-open-starcraft-ii-ai-research-environment/) on the next big challenge for AI systems in attempting to train these systems to learn how to compete with world champions in the increadibly complex world of StarCraft. In this post, we use the pySC2 API to collect gameplay data from replays of human played games with the aim of discoverying some macro elements of the game, such as the different technology progression trees players use. Ultimately, the hope is to build up some intuition on what data is availible from the pySC2 API and how it might be useful in building systems capable of playing the game, but that work will be outside the scope of this post. For now we aim to discover the order of technology and units built by human players, and how those build orders change depending on what players learn about the build order of their opponent.\n",
    "\n",
    "<h3>StarCraftII</h3>\n",
    "StarCrafII is a Real Time Strategy game where players compete against each other on a game map by building an army of units to defeat the opponents army of units and associated buildings. Players need to construct buildings from gathered resources that allow them to create new units and buildings that advance the technology of the player to build stronger units. Each player has many options for how they wish to advance their technology tree, made more complex by the existance of 3 races (Terran, Protoss and Zerg) a player can select from with each having unique units, buildings and technology advancements. Different technologies are better at defeating certain units of the opposing players, but each player can only see the technology advancement of their opponent by using units to search across the map to see what the oppenent is doing and to learn how best to adapt their technology advancement against what their opponent is building.\n",
    "\n",
    "<h3>Dataset</h3>\n",
    "The dataset was collected using the pySC2 API from replays released by Blizzard Entertainment for version 3.16.1 of the game. The data is only taken from replays of Platinum players (MMR > 3440) and only utilizes the feature layers exposed by the API. The final dataset contains over 25,000 replays, with half being from player1's persepective and the other half from player2's persepective of the same replay. The state of the game for each replay was taken every 1 second and saved into a state data list with the following elements at each index.\n",
    "\n",
    "State Data:  \n",
    "0: replay_id  \n",
    "1: map_name  \n",
    "2: player_id  \n",
    "3: minimap - blank list []  \n",
    "4: friendly_army - [unit_id,count]   \n",
    "5: enemy_army  - [unit_id, count]  \n",
    "6: player (resource data)  \n",
    "7: availible_actions  \n",
    "8: taken actions  \n",
    "9: winner  \n",
    "10: race  \n",
    "11: enemy race\n",
    "\n",
    "<h2>BuildRecommender Class</h2>\n",
    "To perform the analysis, we have a helper class that abstracts away the data-munging and machine-learning tasks we'll be utilizing. The class became a bit of a behemoth and could probably use some refactoring, but it has everything we need to load up the data, transform it, train the RNN model and evolve its hyperparameters and finally make the build predictions we're after. The full class can be found in this analysis' [repository](https://github.com/cole-maclean/autocraft), but we'll highlight the more interesting bits throughout this notebook."
   ]
  },
  {
   "cell_type": "code",
   "execution_count": 1,
   "metadata": {
    "collapsed": true
   },
   "outputs": [],
   "source": [
    "from BuildRecommender import BuildRecommender"
   ]
  },
  {
   "cell_type": "markdown",
   "metadata": {},
   "source": [
    "<h2>Exploratory Data Analysis</h2>\n",
    "Before jumping right into building a model, lets explore the build order data, building visualizations to view common builds and get a sense of the dataset.\n",
    "\n",
    "<h3>Build Data</h3>\n",
    "We can use the data loader to collect the build order data we have. The data has been parsed into a 6-tuple of [build_order,won,race,enemy_race,map,replay_id] where build order is a list of uniquely seen buildings and units in order of sighting by the players perspective. Builds/units are marked with a trailing 0 or 1 to indicate if the unit is the player's(0) or the opponent's(1). Won indicates whether the player won the match or not."
   ]
  },
  {
   "cell_type": "code",
   "execution_count": 4,
   "metadata": {
    "collapsed": false
   },
   "outputs": [
    {
     "name": "stdout",
     "output_type": "stream",
     "text": [
      "25115 replays collected\n"
     ]
    },
    {
     "data": {
      "text/plain": [
       "[['Nexus0',\n",
       "  'Probe0',\n",
       "  'Pylon0',\n",
       "  'Gateway0',\n",
       "  'Assimilator0',\n",
       "  'Hatchery1',\n",
       "  'SpawningPool1',\n",
       "  'Egg1',\n",
       "  'Drone1',\n",
       "  'Extractor1',\n",
       "  'CyberneticsCore0',\n",
       "  'Overlord1',\n",
       "  'Stargate0',\n",
       "  'Adept0',\n",
       "  'AdeptPhaseShift0',\n",
       "  'Zergling1',\n",
       "  'Oracle0',\n",
       "  'WarpGate0',\n",
       "  'Queen1',\n",
       "  'CreepTumor1',\n",
       "  'Zealot0',\n",
       "  'Larva1',\n",
       "  'SporeCrawler1',\n",
       "  'Sentry0',\n",
       "  'TwilightCouncil0',\n",
       "  'Forge0',\n",
       "  'MothershipCore0',\n",
       "  'Phoenix0',\n",
       "  'RoboticsFacility0',\n",
       "  'OracleStasisTrap0',\n",
       "  'Overseer1',\n",
       "  'TemplarArchive0',\n",
       "  'Lair1',\n",
       "  'PhotonCannon0',\n",
       "  'Observer0',\n",
       "  'WarpPrism0',\n",
       "  'InfestationPit1',\n",
       "  'HydraliskDen1',\n",
       "  'ChangelingZealot1',\n",
       "  'HighTemplar0',\n",
       "  'Immortal0',\n",
       "  'Hydralisk1',\n",
       "  'Archon0',\n",
       "  'WarpPrismPhasing0',\n",
       "  'Mutalisk1',\n",
       "  'Stalker0',\n",
       "  'Baneling1',\n",
       "  'EvolutionChamber1',\n",
       "  'Spire1',\n",
       "  'BanelingCocoon1',\n",
       "  'BroodLord1',\n",
       "  'CreepTumorBurrowed1',\n",
       "  'Broodling1',\n",
       "  'Corruptor1',\n",
       "  'BroodLordCocoon1',\n",
       "  'CreepTumorQueen1'],\n",
       " False,\n",
       " 'Protoss',\n",
       " 'Zerg',\n",
       " 'Mech Depot LE',\n",
       " '0000e057beefc9b1e9da959ed921b24b9f0a31c63fedb8d94a1db78b58cf92c5.SC2Replay']"
      ]
     },
     "execution_count": 4,
     "metadata": {},
     "output_type": "execute_result"
    }
   ],
   "source": [
    "#parse, save and load build data\n",
    "builder = BuildRecommender(\"replay_state_data\",'build_orders.json')\n",
    "#builder.save_all_build_orders()\n",
    "all_builds = builder.load_all_build_orders()\n",
    "print(\"%s replays collected\" %(len(all_builds)))\n",
    "#example build_data\n",
    "all_builds[0]"
   ]
  },
  {
   "cell_type": "markdown",
   "metadata": {},
   "source": [
    "<h3>Races, Maps and Winrates</h3>\n",
    "Here we can investigate some general game stats"
   ]
  },
  {
   "cell_type": "code",
   "execution_count": 3,
   "metadata": {
    "collapsed": false
   },
   "outputs": [
    {
     "data": {
      "text/html": [
       "<div>\n",
       "<style>\n",
       "    .dataframe thead tr:only-child th {\n",
       "        text-align: right;\n",
       "    }\n",
       "\n",
       "    .dataframe thead th {\n",
       "        text-align: left;\n",
       "    }\n",
       "\n",
       "    .dataframe tbody tr th {\n",
       "        vertical-align: top;\n",
       "    }\n",
       "</style>\n",
       "<table border=\"1\" class=\"dataframe\">\n",
       "  <thead>\n",
       "    <tr style=\"text-align: right;\">\n",
       "      <th></th>\n",
       "      <th>Won</th>\n",
       "      <th>Race</th>\n",
       "      <th>EnemyRace</th>\n",
       "      <th>Map</th>\n",
       "      <th>ReplayID</th>\n",
       "    </tr>\n",
       "  </thead>\n",
       "  <tbody>\n",
       "    <tr>\n",
       "      <th>0</th>\n",
       "      <td>False</td>\n",
       "      <td>Protoss</td>\n",
       "      <td>Zerg</td>\n",
       "      <td>Mech Depot LE</td>\n",
       "      <td>0000e057beefc9b1e9da959ed921b24b9f0a31c63fedb8...</td>\n",
       "    </tr>\n",
       "    <tr>\n",
       "      <th>17476</th>\n",
       "      <td>False</td>\n",
       "      <td>Protoss</td>\n",
       "      <td>Zerg</td>\n",
       "      <td>Acolyte LE</td>\n",
       "      <td>50fcf294b394bf3ef38b326c96b93baf02c8380674c063...</td>\n",
       "    </tr>\n",
       "    <tr>\n",
       "      <th>17489</th>\n",
       "      <td>True</td>\n",
       "      <td>Protoss</td>\n",
       "      <td>Terran</td>\n",
       "      <td>Catallena LE (Void)</td>\n",
       "      <td>510f3e2b4eaa42cf19401f58758e6d31987320613c18d8...</td>\n",
       "    </tr>\n",
       "    <tr>\n",
       "      <th>17493</th>\n",
       "      <td>True</td>\n",
       "      <td>Protoss</td>\n",
       "      <td>Terran</td>\n",
       "      <td>Interloper LE</td>\n",
       "      <td>510f82cc95ed9687a51560a02784e115d8770b2baf18a3...</td>\n",
       "    </tr>\n",
       "    <tr>\n",
       "      <th>6525</th>\n",
       "      <td>True</td>\n",
       "      <td>Protoss</td>\n",
       "      <td>Protoss</td>\n",
       "      <td>Odyssey LE</td>\n",
       "      <td>1f4e6a24bfeba8a59e7e77edc75ec85711e20cdc669dbe...</td>\n",
       "    </tr>\n",
       "  </tbody>\n",
       "</table>\n",
       "</div>"
      ],
      "text/plain": [
       "         Won     Race EnemyRace                  Map  \\\n",
       "0      False  Protoss      Zerg        Mech Depot LE   \n",
       "17476  False  Protoss      Zerg           Acolyte LE   \n",
       "17489   True  Protoss    Terran  Catallena LE (Void)   \n",
       "17493   True  Protoss    Terran        Interloper LE   \n",
       "6525    True  Protoss   Protoss           Odyssey LE   \n",
       "\n",
       "                                                ReplayID  \n",
       "0      0000e057beefc9b1e9da959ed921b24b9f0a31c63fedb8...  \n",
       "17476  50fcf294b394bf3ef38b326c96b93baf02c8380674c063...  \n",
       "17489  510f3e2b4eaa42cf19401f58758e6d31987320613c18d8...  \n",
       "17493  510f82cc95ed9687a51560a02784e115d8770b2baf18a3...  \n",
       "6525   1f4e6a24bfeba8a59e7e77edc75ec85711e20cdc669dbe...  "
      ]
     },
     "execution_count": 3,
     "metadata": {},
     "output_type": "execute_result"
    }
   ],
   "source": [
    "import pandas as pd\n",
    "#load up static state data into dataframe\n",
    "df = pd.DataFrame([build[1:] for build in all_builds],columns=['Won',\"Race\",\"EnemyRace\",\"Map\",\"ReplayID\"])\n",
    "df.sort_values(by=['Race'],inplace=True,ascending=True)\n",
    "df.head()"
   ]
  },
  {
   "cell_type": "code",
   "execution_count": 4,
   "metadata": {
    "collapsed": false
   },
   "outputs": [],
   "source": [
    "%matplotlib inline\n",
    "from collections import Counter\n",
    "import numpy as np\n",
    "import seaborn as sns\n",
    "import matplotlib.pyplot as plt\n",
    "races = set(df['Race'])"
   ]
  },
  {
   "cell_type": "code",
   "execution_count": 5,
   "metadata": {
    "collapsed": false
   },
   "outputs": [
    {
     "data": {
      "image/png": "[encoded data removed]",
      "text/plain": [
       "<matplotlib.figure.Figure at 0x26231574b00>"
      ]
     },
     "metadata": {},
     "output_type": "display_data"
    }
   ],
   "source": [
    "hue_order = ['Protoss','Terran','Zerg']\n",
    "ax = sns.countplot(df['Race'])"
   ]
  },
  {
   "cell_type": "markdown",
   "metadata": {},
   "source": [
    "Looks like Terran is the most popular race, followed closely by Zerg, but Protoss trailing quite heavily.  "
   ]
  },
  {
   "cell_type": "code",
   "execution_count": 6,
   "metadata": {
    "collapsed": false
   },
   "outputs": [
    {
     "data": {
      "image/png": "[encoded data removed]",
      "text/plain": [
       "<matplotlib.figure.Figure at 0x26224e17198>"
      ]
     },
     "metadata": {},
     "output_type": "display_data"
    }
   ],
   "source": [
    "ax = sns.barplot(data=df,x='Race',y='Won')"
   ]
  },
  {
   "cell_type": "markdown",
   "metadata": {},
   "source": [
    "All races are remarkably balanced in the dataset, with all having nearly exactly 50% winrates and all within the 95% confidence interval of the others."
   ]
  },
  {
   "cell_type": "code",
   "execution_count": 7,
   "metadata": {
    "collapsed": false
   },
   "outputs": [
    {
     "data": {
      "image/png": "[encoded data removed]",
      "text/plain": [
       "<matplotlib.figure.Figure at 0x2623306efd0>"
      ]
     },
     "metadata": {},
     "output_type": "display_data"
    }
   ],
   "source": [
    "map_counts = df.groupby(by='Map').count()\n",
    "labels,values = zip(*sorted(map_counts['Won'].items(), key=lambda x:x[1],reverse=True))\n",
    "\n",
    "ax = sns.barplot(x=labels, y=values)\n",
    "ax = ax.set_xticklabels(rotation=90,labels = labels)"
   ]
  },
  {
   "cell_type": "markdown",
   "metadata": {},
   "source": [
    "That's a nice looking linearly decreasing trend in map popularity, with Odyssey being the favorite and Catallena way in last, but this is likely due to Catallena being the only 3 player ladder map, which can cause some extra quirks for players playing 1v1 on it."
   ]
  },
  {
   "cell_type": "code",
   "execution_count": 8,
   "metadata": {
    "collapsed": false
   },
   "outputs": [],
   "source": [
    "map_race_counts = df.groupby(by=['Map','Race']).count()\n",
    "mr_df = map_race_counts['Won'].reset_index()\n",
    "maps = set(mr_df['Map'])"
   ]
  },
  {
   "cell_type": "code",
   "execution_count": 9,
   "metadata": {
    "collapsed": false
   },
   "outputs": [
    {
     "data": {
      "image/png": "[encoded data removed]",
      "text/plain": [
       "<matplotlib.figure.Figure at 0x26233447160>"
      ]
     },
     "metadata": {},
     "output_type": "display_data"
    }
   ],
   "source": [
    "ax = sns.barplot(data=mr_df,x='Map', y='Won', hue='Race',hue_order=hue_order)\n",
    "ax.set(xlabel='Map', ylabel='Count')\n",
    "g = plt.xticks(rotation=45)"
   ]
  },
  {
   "cell_type": "markdown",
   "metadata": {},
   "source": [
    "Protoss seem to especially dislike Catallena, prefering Odyssey and Ascension to Aiur. Terran and Zerg follow closely the general map popularity trend, with Terran favouring Odyssey the most. Terrans seem to be the race most willing to play Catallena. Lets check out the winrates for the races on each map."
   ]
  },
  {
   "cell_type": "code",
   "execution_count": 10,
   "metadata": {
    "collapsed": false
   },
   "outputs": [
    {
     "data": {
      "text/html": [
       "<div>\n",
       "<style>\n",
       "    .dataframe thead tr:only-child th {\n",
       "        text-align: right;\n",
       "    }\n",
       "\n",
       "    .dataframe thead th {\n",
       "        text-align: left;\n",
       "    }\n",
       "\n",
       "    .dataframe tbody tr th {\n",
       "        vertical-align: top;\n",
       "    }\n",
       "</style>\n",
       "<table border=\"1\" class=\"dataframe\">\n",
       "  <thead>\n",
       "    <tr style=\"text-align: right;\">\n",
       "      <th></th>\n",
       "      <th>Map</th>\n",
       "      <th>Race</th>\n",
       "      <th>Won</th>\n",
       "      <th>EnemyRace</th>\n",
       "      <th>ReplayID</th>\n",
       "      <th>Race_Won</th>\n",
       "    </tr>\n",
       "  </thead>\n",
       "  <tbody>\n",
       "    <tr>\n",
       "      <th>0</th>\n",
       "      <td>Abyssal Reef LE</td>\n",
       "      <td>Protoss</td>\n",
       "      <td>False</td>\n",
       "      <td>439</td>\n",
       "      <td>439</td>\n",
       "      <td>ProtossFalse</td>\n",
       "    </tr>\n",
       "    <tr>\n",
       "      <th>1</th>\n",
       "      <td>Abyssal Reef LE</td>\n",
       "      <td>Protoss</td>\n",
       "      <td>True</td>\n",
       "      <td>437</td>\n",
       "      <td>437</td>\n",
       "      <td>ProtossTrue</td>\n",
       "    </tr>\n",
       "    <tr>\n",
       "      <th>2</th>\n",
       "      <td>Abyssal Reef LE</td>\n",
       "      <td>Terran</td>\n",
       "      <td>False</td>\n",
       "      <td>709</td>\n",
       "      <td>709</td>\n",
       "      <td>TerranFalse</td>\n",
       "    </tr>\n",
       "    <tr>\n",
       "      <th>3</th>\n",
       "      <td>Abyssal Reef LE</td>\n",
       "      <td>Terran</td>\n",
       "      <td>True</td>\n",
       "      <td>727</td>\n",
       "      <td>727</td>\n",
       "      <td>TerranTrue</td>\n",
       "    </tr>\n",
       "    <tr>\n",
       "      <th>4</th>\n",
       "      <td>Abyssal Reef LE</td>\n",
       "      <td>Zerg</td>\n",
       "      <td>False</td>\n",
       "      <td>614</td>\n",
       "      <td>614</td>\n",
       "      <td>ZergFalse</td>\n",
       "    </tr>\n",
       "    <tr>\n",
       "      <th>5</th>\n",
       "      <td>Abyssal Reef LE</td>\n",
       "      <td>Zerg</td>\n",
       "      <td>True</td>\n",
       "      <td>595</td>\n",
       "      <td>595</td>\n",
       "      <td>ZergTrue</td>\n",
       "    </tr>\n",
       "    <tr>\n",
       "      <th>6</th>\n",
       "      <td>Acolyte LE</td>\n",
       "      <td>Protoss</td>\n",
       "      <td>False</td>\n",
       "      <td>418</td>\n",
       "      <td>418</td>\n",
       "      <td>ProtossFalse</td>\n",
       "    </tr>\n",
       "    <tr>\n",
       "      <th>7</th>\n",
       "      <td>Acolyte LE</td>\n",
       "      <td>Protoss</td>\n",
       "      <td>True</td>\n",
       "      <td>416</td>\n",
       "      <td>416</td>\n",
       "      <td>ProtossTrue</td>\n",
       "    </tr>\n",
       "    <tr>\n",
       "      <th>8</th>\n",
       "      <td>Acolyte LE</td>\n",
       "      <td>Terran</td>\n",
       "      <td>False</td>\n",
       "      <td>667</td>\n",
       "      <td>667</td>\n",
       "      <td>TerranFalse</td>\n",
       "    </tr>\n",
       "    <tr>\n",
       "      <th>9</th>\n",
       "      <td>Acolyte LE</td>\n",
       "      <td>Terran</td>\n",
       "      <td>True</td>\n",
       "      <td>625</td>\n",
       "      <td>625</td>\n",
       "      <td>TerranTrue</td>\n",
       "    </tr>\n",
       "    <tr>\n",
       "      <th>10</th>\n",
       "      <td>Acolyte LE</td>\n",
       "      <td>Zerg</td>\n",
       "      <td>False</td>\n",
       "      <td>518</td>\n",
       "      <td>518</td>\n",
       "      <td>ZergFalse</td>\n",
       "    </tr>\n",
       "    <tr>\n",
       "      <th>11</th>\n",
       "      <td>Acolyte LE</td>\n",
       "      <td>Zerg</td>\n",
       "      <td>True</td>\n",
       "      <td>560</td>\n",
       "      <td>560</td>\n",
       "      <td>ZergTrue</td>\n",
       "    </tr>\n",
       "    <tr>\n",
       "      <th>12</th>\n",
       "      <td>Ascension to Aiur LE</td>\n",
       "      <td>Protoss</td>\n",
       "      <td>False</td>\n",
       "      <td>538</td>\n",
       "      <td>538</td>\n",
       "      <td>ProtossFalse</td>\n",
       "    </tr>\n",
       "    <tr>\n",
       "      <th>13</th>\n",
       "      <td>Ascension to Aiur LE</td>\n",
       "      <td>Protoss</td>\n",
       "      <td>True</td>\n",
       "      <td>535</td>\n",
       "      <td>535</td>\n",
       "      <td>ProtossTrue</td>\n",
       "    </tr>\n",
       "    <tr>\n",
       "      <th>14</th>\n",
       "      <td>Ascension to Aiur LE</td>\n",
       "      <td>Terran</td>\n",
       "      <td>False</td>\n",
       "      <td>818</td>\n",
       "      <td>818</td>\n",
       "      <td>TerranFalse</td>\n",
       "    </tr>\n",
       "    <tr>\n",
       "      <th>15</th>\n",
       "      <td>Ascension to Aiur LE</td>\n",
       "      <td>Terran</td>\n",
       "      <td>True</td>\n",
       "      <td>872</td>\n",
       "      <td>872</td>\n",
       "      <td>TerranTrue</td>\n",
       "    </tr>\n",
       "    <tr>\n",
       "      <th>16</th>\n",
       "      <td>Ascension to Aiur LE</td>\n",
       "      <td>Zerg</td>\n",
       "      <td>False</td>\n",
       "      <td>828</td>\n",
       "      <td>828</td>\n",
       "      <td>ZergFalse</td>\n",
       "    </tr>\n",
       "    <tr>\n",
       "      <th>17</th>\n",
       "      <td>Ascension to Aiur LE</td>\n",
       "      <td>Zerg</td>\n",
       "      <td>True</td>\n",
       "      <td>770</td>\n",
       "      <td>770</td>\n",
       "      <td>ZergTrue</td>\n",
       "    </tr>\n",
       "    <tr>\n",
       "      <th>18</th>\n",
       "      <td>Catallena LE (Void)</td>\n",
       "      <td>Protoss</td>\n",
       "      <td>False</td>\n",
       "      <td>255</td>\n",
       "      <td>255</td>\n",
       "      <td>ProtossFalse</td>\n",
       "    </tr>\n",
       "    <tr>\n",
       "      <th>19</th>\n",
       "      <td>Catallena LE (Void)</td>\n",
       "      <td>Protoss</td>\n",
       "      <td>True</td>\n",
       "      <td>242</td>\n",
       "      <td>242</td>\n",
       "      <td>ProtossTrue</td>\n",
       "    </tr>\n",
       "    <tr>\n",
       "      <th>20</th>\n",
       "      <td>Catallena LE (Void)</td>\n",
       "      <td>Terran</td>\n",
       "      <td>False</td>\n",
       "      <td>504</td>\n",
       "      <td>504</td>\n",
       "      <td>TerranFalse</td>\n",
       "    </tr>\n",
       "    <tr>\n",
       "      <th>21</th>\n",
       "      <td>Catallena LE (Void)</td>\n",
       "      <td>Terran</td>\n",
       "      <td>True</td>\n",
       "      <td>505</td>\n",
       "      <td>505</td>\n",
       "      <td>TerranTrue</td>\n",
       "    </tr>\n",
       "    <tr>\n",
       "      <th>22</th>\n",
       "      <td>Catallena LE (Void)</td>\n",
       "      <td>Zerg</td>\n",
       "      <td>False</td>\n",
       "      <td>407</td>\n",
       "      <td>407</td>\n",
       "      <td>ZergFalse</td>\n",
       "    </tr>\n",
       "    <tr>\n",
       "      <th>23</th>\n",
       "      <td>Catallena LE (Void)</td>\n",
       "      <td>Zerg</td>\n",
       "      <td>True</td>\n",
       "      <td>418</td>\n",
       "      <td>418</td>\n",
       "      <td>ZergTrue</td>\n",
       "    </tr>\n",
       "    <tr>\n",
       "      <th>24</th>\n",
       "      <td>Interloper LE</td>\n",
       "      <td>Protoss</td>\n",
       "      <td>False</td>\n",
       "      <td>432</td>\n",
       "      <td>432</td>\n",
       "      <td>ProtossFalse</td>\n",
       "    </tr>\n",
       "    <tr>\n",
       "      <th>25</th>\n",
       "      <td>Interloper LE</td>\n",
       "      <td>Protoss</td>\n",
       "      <td>True</td>\n",
       "      <td>436</td>\n",
       "      <td>436</td>\n",
       "      <td>ProtossTrue</td>\n",
       "    </tr>\n",
       "    <tr>\n",
       "      <th>26</th>\n",
       "      <td>Interloper LE</td>\n",
       "      <td>Terran</td>\n",
       "      <td>False</td>\n",
       "      <td>717</td>\n",
       "      <td>717</td>\n",
       "      <td>TerranFalse</td>\n",
       "    </tr>\n",
       "    <tr>\n",
       "      <th>27</th>\n",
       "      <td>Interloper LE</td>\n",
       "      <td>Terran</td>\n",
       "      <td>True</td>\n",
       "      <td>717</td>\n",
       "      <td>717</td>\n",
       "      <td>TerranTrue</td>\n",
       "    </tr>\n",
       "    <tr>\n",
       "      <th>28</th>\n",
       "      <td>Interloper LE</td>\n",
       "      <td>Zerg</td>\n",
       "      <td>False</td>\n",
       "      <td>633</td>\n",
       "      <td>633</td>\n",
       "      <td>ZergFalse</td>\n",
       "    </tr>\n",
       "    <tr>\n",
       "      <th>29</th>\n",
       "      <td>Interloper LE</td>\n",
       "      <td>Zerg</td>\n",
       "      <td>True</td>\n",
       "      <td>627</td>\n",
       "      <td>627</td>\n",
       "      <td>ZergTrue</td>\n",
       "    </tr>\n",
       "    <tr>\n",
       "      <th>30</th>\n",
       "      <td>Mech Depot LE</td>\n",
       "      <td>Protoss</td>\n",
       "      <td>False</td>\n",
       "      <td>463</td>\n",
       "      <td>463</td>\n",
       "      <td>ProtossFalse</td>\n",
       "    </tr>\n",
       "    <tr>\n",
       "      <th>31</th>\n",
       "      <td>Mech Depot LE</td>\n",
       "      <td>Protoss</td>\n",
       "      <td>True</td>\n",
       "      <td>402</td>\n",
       "      <td>402</td>\n",
       "      <td>ProtossTrue</td>\n",
       "    </tr>\n",
       "    <tr>\n",
       "      <th>32</th>\n",
       "      <td>Mech Depot LE</td>\n",
       "      <td>Terran</td>\n",
       "      <td>False</td>\n",
       "      <td>648</td>\n",
       "      <td>648</td>\n",
       "      <td>TerranFalse</td>\n",
       "    </tr>\n",
       "    <tr>\n",
       "      <th>33</th>\n",
       "      <td>Mech Depot LE</td>\n",
       "      <td>Terran</td>\n",
       "      <td>True</td>\n",
       "      <td>652</td>\n",
       "      <td>652</td>\n",
       "      <td>TerranTrue</td>\n",
       "    </tr>\n",
       "    <tr>\n",
       "      <th>34</th>\n",
       "      <td>Mech Depot LE</td>\n",
       "      <td>Zerg</td>\n",
       "      <td>False</td>\n",
       "      <td>625</td>\n",
       "      <td>625</td>\n",
       "      <td>ZergFalse</td>\n",
       "    </tr>\n",
       "    <tr>\n",
       "      <th>35</th>\n",
       "      <td>Mech Depot LE</td>\n",
       "      <td>Zerg</td>\n",
       "      <td>True</td>\n",
       "      <td>676</td>\n",
       "      <td>676</td>\n",
       "      <td>ZergTrue</td>\n",
       "    </tr>\n",
       "    <tr>\n",
       "      <th>36</th>\n",
       "      <td>Odyssey LE</td>\n",
       "      <td>Protoss</td>\n",
       "      <td>False</td>\n",
       "      <td>592</td>\n",
       "      <td>592</td>\n",
       "      <td>ProtossFalse</td>\n",
       "    </tr>\n",
       "    <tr>\n",
       "      <th>37</th>\n",
       "      <td>Odyssey LE</td>\n",
       "      <td>Protoss</td>\n",
       "      <td>True</td>\n",
       "      <td>597</td>\n",
       "      <td>597</td>\n",
       "      <td>ProtossTrue</td>\n",
       "    </tr>\n",
       "    <tr>\n",
       "      <th>38</th>\n",
       "      <td>Odyssey LE</td>\n",
       "      <td>Terran</td>\n",
       "      <td>False</td>\n",
       "      <td>858</td>\n",
       "      <td>858</td>\n",
       "      <td>TerranFalse</td>\n",
       "    </tr>\n",
       "    <tr>\n",
       "      <th>39</th>\n",
       "      <td>Odyssey LE</td>\n",
       "      <td>Terran</td>\n",
       "      <td>True</td>\n",
       "      <td>939</td>\n",
       "      <td>939</td>\n",
       "      <td>TerranTrue</td>\n",
       "    </tr>\n",
       "    <tr>\n",
       "      <th>40</th>\n",
       "      <td>Odyssey LE</td>\n",
       "      <td>Zerg</td>\n",
       "      <td>False</td>\n",
       "      <td>886</td>\n",
       "      <td>886</td>\n",
       "      <td>ZergFalse</td>\n",
       "    </tr>\n",
       "    <tr>\n",
       "      <th>41</th>\n",
       "      <td>Odyssey LE</td>\n",
       "      <td>Zerg</td>\n",
       "      <td>True</td>\n",
       "      <td>798</td>\n",
       "      <td>798</td>\n",
       "      <td>ZergTrue</td>\n",
       "    </tr>\n",
       "  </tbody>\n",
       "</table>\n",
       "</div>"
      ],
      "text/plain": [
       "                     Map     Race    Won  EnemyRace  ReplayID      Race_Won\n",
       "0        Abyssal Reef LE  Protoss  False        439       439  ProtossFalse\n",
       "1        Abyssal Reef LE  Protoss   True        437       437   ProtossTrue\n",
       "2        Abyssal Reef LE   Terran  False        709       709   TerranFalse\n",
       "3        Abyssal Reef LE   Terran   True        727       727    TerranTrue\n",
       "4        Abyssal Reef LE     Zerg  False        614       614     ZergFalse\n",
       "5        Abyssal Reef LE     Zerg   True        595       595      ZergTrue\n",
       "6             Acolyte LE  Protoss  False        418       418  ProtossFalse\n",
       "7             Acolyte LE  Protoss   True        416       416   ProtossTrue\n",
       "8             Acolyte LE   Terran  False        667       667   TerranFalse\n",
       "9             Acolyte LE   Terran   True        625       625    TerranTrue\n",
       "10            Acolyte LE     Zerg  False        518       518     ZergFalse\n",
       "11            Acolyte LE     Zerg   True        560       560      ZergTrue\n",
       "12  Ascension to Aiur LE  Protoss  False        538       538  ProtossFalse\n",
       "13  Ascension to Aiur LE  Protoss   True        535       535   ProtossTrue\n",
       "14  Ascension to Aiur LE   Terran  False        818       818   TerranFalse\n",
       "15  Ascension to Aiur LE   Terran   True        872       872    TerranTrue\n",
       "16  Ascension to Aiur LE     Zerg  False        828       828     ZergFalse\n",
       "17  Ascension to Aiur LE     Zerg   True        770       770      ZergTrue\n",
       "18   Catallena LE (Void)  Protoss  False        255       255  ProtossFalse\n",
       "19   Catallena LE (Void)  Protoss   True        242       242   ProtossTrue\n",
       "20   Catallena LE (Void)   Terran  False        504       504   TerranFalse\n",
       "21   Catallena LE (Void)   Terran   True        505       505    TerranTrue\n",
       "22   Catallena LE (Void)     Zerg  False        407       407     ZergFalse\n",
       "23   Catallena LE (Void)     Zerg   True        418       418      ZergTrue\n",
       "24         Interloper LE  Protoss  False        432       432  ProtossFalse\n",
       "25         Interloper LE  Protoss   True        436       436   ProtossTrue\n",
       "26         Interloper LE   Terran  False        717       717   TerranFalse\n",
       "27         Interloper LE   Terran   True        717       717    TerranTrue\n",
       "28         Interloper LE     Zerg  False        633       633     ZergFalse\n",
       "29         Interloper LE     Zerg   True        627       627      ZergTrue\n",
       "30         Mech Depot LE  Protoss  False        463       463  ProtossFalse\n",
       "31         Mech Depot LE  Protoss   True        402       402   ProtossTrue\n",
       "32         Mech Depot LE   Terran  False        648       648   TerranFalse\n",
       "33         Mech Depot LE   Terran   True        652       652    TerranTrue\n",
       "34         Mech Depot LE     Zerg  False        625       625     ZergFalse\n",
       "35         Mech Depot LE     Zerg   True        676       676      ZergTrue\n",
       "36            Odyssey LE  Protoss  False        592       592  ProtossFalse\n",
       "37            Odyssey LE  Protoss   True        597       597   ProtossTrue\n",
       "38            Odyssey LE   Terran  False        858       858   TerranFalse\n",
       "39            Odyssey LE   Terran   True        939       939    TerranTrue\n",
       "40            Odyssey LE     Zerg  False        886       886     ZergFalse\n",
       "41            Odyssey LE     Zerg   True        798       798      ZergTrue"
      ]
     },
     "execution_count": 10,
     "metadata": {},
     "output_type": "execute_result"
    }
   ],
   "source": [
    "map_race_win_counts = df.groupby(by=['Map','Race','Won']).count()\n",
    "mrw_df = map_race_win_counts.reset_index()\n",
    "mrw_df['Race_Won'] = mrw_df['Race'].astype(str) + mrw_df['Won'].astype(str)\n",
    "mrw_df"
   ]
  },
  {
   "cell_type": "code",
   "execution_count": 11,
   "metadata": {
    "collapsed": false
   },
   "outputs": [
    {
     "data": {
      "image/png": "[encoded data removed]",
      "text/plain": [
       "<matplotlib.figure.Figure at 0x2623353da20>"
      ]
     },
     "metadata": {},
     "output_type": "display_data"
    }
   ],
   "source": [
    "order = ['ProtossTrue','ProtossFalse', 'TerranTrue','TerranFalse', 'ZergTrue','ZergFalse']\n",
    "fg = sns.factorplot(x='Race_Won', y='ReplayID', hue='Race', \n",
    "                        col='Map', data=mrw_df, kind='bar',\n",
    "                   col_wrap=3,order=order,hue_order=hue_order)\n",
    "for ax in fg.axes.flat:\n",
    "    for label in ax.get_xticklabels():\n",
    "        label.set_rotation(45)"
   ]
  },
  {
   "cell_type": "markdown",
   "metadata": {},
   "source": [
    "Most ladder maps are also quite balanced, with most races having equal wins and losses on each. The only imbalances that sitck out are Terran over Zerg on both Ascension to Auir and Odyssey and Zerg's slight advantage over Protoss on Mech Depot. Protoss is the only race that doesn't seem to have a subsantial edge on any map.  Here's a summary of the best and worst map for each race with winrates.\n",
    "\n",
    "<b>Protoss</b>  \n",
    "Best Map - Interloper (50.2%)  \n",
    "Worst Map - Mech Depot (46.5%)  \n",
    "\n",
    "<b>Terran</b>  \n",
    "Best Map - Odyssey (52.3%)  \n",
    "Worst Map - Acolyte (48.4%)  \n",
    "\n",
    "<b>Zerg</b>  \n",
    "Best Map - Mech Depot (52.0%)  \n",
    "Worst Map - Odyssey (47.4%)"
   ]
  },
  {
   "cell_type": "markdown",
   "metadata": {},
   "source": [
    "<h2>Build Orders and Winrates</h2>\n",
    "Enough game meta, lets see what we can pull out from the build order data from the various replays"
   ]
  },
  {
   "cell_type": "code",
   "execution_count": null,
   "metadata": {
    "collapsed": true
   },
   "outputs": [],
   "source": [
    "tst_all = "
   ]
  },
  {
   "cell_type": "code",
   "execution_count": 12,
   "metadata": {
    "collapsed": false
   },
   "outputs": [
    {
     "data": {
      "text/plain": [
       "[('Nexus0',\n",
       "  'Probe0',\n",
       "  'Pylon0',\n",
       "  'Gateway0',\n",
       "  'Assimilator0',\n",
       "  'CyberneticsCore0',\n",
       "  'Stargate0',\n",
       "  'Adept0',\n",
       "  'AdeptPhaseShift0',\n",
       "  'Oracle0',\n",
       "  'WarpGate0',\n",
       "  'Zealot0',\n",
       "  'Sentry0',\n",
       "  'TwilightCouncil0',\n",
       "  'Forge0',\n",
       "  'MothershipCore0',\n",
       "  'Phoenix0',\n",
       "  'RoboticsFacility0',\n",
       "  'OracleStasisTrap0',\n",
       "  'TemplarArchive0',\n",
       "  'PhotonCannon0',\n",
       "  'Observer0',\n",
       "  'WarpPrism0',\n",
       "  'HighTemplar0',\n",
       "  'Immortal0',\n",
       "  'Archon0',\n",
       "  'WarpPrismPhasing0',\n",
       "  'Stalker0'),\n",
       " False]"
      ]
     },
     "execution_count": 12,
     "metadata": {},
     "output_type": "execute_result"
    }
   ],
   "source": [
    "#grab only the firendly build order, filter out the enemies, keep won flag\n",
    "all_friendly_builds = [[tuple([unit for unit in build[0] if unit[-1] == '0']),build[1]] for build in all_builds]\n",
    "all_friendly_builds[0]"
   ]
  },
  {
   "cell_type": "code",
   "execution_count": 13,
   "metadata": {
    "collapsed": false
   },
   "outputs": [
    {
     "name": "stdout",
     "output_type": "stream",
     "text": [
      "Max build length = 51\n",
      "Average build length = 23\n"
     ]
    },
    {
     "data": {
      "image/png": "[encoded data removed]",
      "text/plain": [
       "<matplotlib.figure.Figure at 0x26233d1b0b8>"
      ]
     },
     "metadata": {},
     "output_type": "display_data"
    }
   ],
   "source": [
    "build_lengths = [len(bld[0]) for bld in all_friendly_builds]\n",
    "max_build_len = max(build_lengths)\n",
    "avg_build_len = np.mean(build_lengths)\n",
    "print(\"Max build length = %s\" %(max_build_len))\n",
    "print(\"Average build length = %s\" %int(avg_build_len))\n",
    "g = sns.distplot(build_lengths,bins=50)"
   ]
  },
  {
   "cell_type": "markdown",
   "metadata": {},
   "source": [
    "The length of a players build, ie the number of unique units in their tech tree, is a real nice normal distribution, with most games lasting between 20-30 unique buildings and units, tailing off into shorter and longer games up to a max of 51 unique units. There's a pretty big spike at the 12 unit mark, lets see if we can find what's causing that.\n",
    "\n",
    "The script below can sort out the most common build orders at various stages of a game, and find the builds with the most wins."
   ]
  },
  {
   "cell_type": "code",
   "execution_count": 2,
   "metadata": {
    "collapsed": false
   },
   "outputs": [],
   "source": [
    "from collections import Counter\n",
    "def common_builds(all_builds,build_start,len_build,winner=None,n_top=10):\n",
    "    #build win rate sorted if winner !=None, otherwise just sort by raw counts\n",
    "    if winner != None:\n",
    "        winning_rates = []\n",
    "        #get winning and losing build counts to obtain build win rates\n",
    "        winning_builds = Counter([build[0][build_start:min(len(build[0]),build_start + len_build +1)]\n",
    "                  for build in all_builds\n",
    "                  if build[1] == True])\n",
    "        losing_builds = Counter([build[0][build_start:min(len(build[0]),build_start + len_build +1)]\n",
    "                  for build in all_builds\n",
    "                  if build[1] == False])\n",
    "        for build in set(winning_builds).union(set(losing_builds)):\n",
    "            if build in winning_builds:\n",
    "                wins = winning_builds[build]\n",
    "                \n",
    "            else:\n",
    "                wins = 0\n",
    "            if build in losing_builds:\n",
    "                loses = losing_builds[build]\n",
    "            else:\n",
    "                loses = 0\n",
    "            win_rate = (wins/(wins+loses))\n",
    "            winning_rates.append([build,win_rate,wins])\n",
    "            #sort by build count and then win rate\n",
    "        return sorted(winning_rates,key=lambda x:(x[2],x[1]),reverse=winner)[0:n_top]\n",
    "    else:\n",
    "        #sort by build counts only\n",
    "        builds = Counter([build[0][build_start:min(len(build[0]),build_start + len_build +1)]\n",
    "                  for build in all_builds])\n",
    "        return builds.most_common(n_top)"
   ]
  },
  {
   "cell_type": "markdown",
   "metadata": {},
   "source": [
    "Lets take a look at the spike at tech trees of length 12."
   ]
  },
  {
   "cell_type": "code",
   "execution_count": 15,
   "metadata": {
    "collapsed": false
   },
   "outputs": [
    {
     "name": "stdout",
     "output_type": "stream",
     "text": [
      "(('Hatchery0', 'Drone0', 'Overlord0', 'Larva0', 'Egg0', 'Extractor0', 'SpawningPool0', 'Zergling0', 'Queen0', 'BanelingNest0', 'BanelingCocoon0', 'Baneling0'), 120)\n",
      "\n",
      "(('Hatchery0', 'Drone0', 'Overlord0', 'Larva0', 'Egg0', 'Extractor0', 'SpawningPool0', 'Zergling0', 'BanelingNest0', 'Queen0', 'BanelingCocoon0', 'Baneling0'), 106)\n",
      "\n",
      "(('Hatchery0', 'Drone0', 'Overlord0', 'Larva0', 'Egg0', 'SpawningPool0', 'Extractor0', 'Zergling0', 'Queen0', 'BanelingNest0', 'BanelingCocoon0', 'Baneling0'), 43)\n",
      "\n"
     ]
    }
   ],
   "source": [
    "builds = Counter([tuple(build[0]) for build in all_friendly_builds if len(build[0]) == 12])\n",
    "cmn_builds = builds.most_common(3)\n",
    "for bld in cmn_builds:\n",
    "    print(bld)\n",
    "    print(\"\")"
   ]
  },
  {
   "cell_type": "markdown",
   "metadata": {},
   "source": [
    "It looks like there's a spike at games ending once Zerg players get to Banelings. This might be due to Zergs typically all-ining at this point, or possibly this is when they're at their weakest state compared to their opponents at this stage (12 unit deep tech trees). Let's take a look at some other common builds."
   ]
  },
  {
   "cell_type": "code",
   "execution_count": 16,
   "metadata": {
    "collapsed": false
   },
   "outputs": [
    {
     "name": "stdout",
     "output_type": "stream",
     "text": [
      "(('Hatchery0', 'Drone0', 'Overlord0', 'Larva0', 'Egg0', 'Extractor0', 'SpawningPool0', 'Zergling0', 'Queen0', 'BanelingNest0', 'BanelingCocoon0', 'Baneling0'), 120)\n",
      "\n",
      "(('Hatchery0', 'Drone0', 'Overlord0', 'Larva0', 'Egg0', 'Extractor0', 'SpawningPool0', 'Zergling0', 'Queen0'), 108)\n",
      "\n",
      "(('Hatchery0', 'Drone0', 'Overlord0', 'Larva0', 'Egg0', 'Extractor0', 'SpawningPool0', 'Zergling0', 'BanelingNest0', 'Queen0', 'BanelingCocoon0', 'Baneling0'), 106)\n",
      "\n",
      "(('Hatchery0', 'Drone0', 'Overlord0', 'Larva0', 'Egg0', 'SpawningPool0', 'Extractor0', 'Zergling0', 'Queen0', 'BanelingNest0', 'BanelingCocoon0', 'Baneling0'), 43)\n",
      "\n",
      "(('Nexus0', 'Probe0', 'Pylon0', 'Forge0', 'PhotonCannon0'), 39)\n",
      "\n",
      "(('Hatchery0', 'Drone0', 'Overlord0', 'Larva0', 'Egg0', 'Extractor0', 'SpawningPool0', 'BanelingNest0', 'Zergling0', 'Queen0', 'BanelingCocoon0', 'Baneling0'), 31)\n",
      "\n",
      "(('Hatchery0', 'Drone0', 'Overlord0', 'Larva0', 'Egg0', 'Extractor0', 'SpawningPool0', 'Zergling0', 'Queen0', 'BanelingNest0'), 29)\n",
      "\n",
      "(('Hatchery0', 'Drone0', 'Overlord0', 'Larva0', 'Egg0', 'SpawningPool0', 'Extractor0', 'Zergling0', 'Queen0'), 28)\n",
      "\n",
      "(('CommandCenter0', 'SCV0', 'SupplyDepot0', 'Refinery0', 'Barracks0'), 28)\n",
      "\n",
      "(('Nexus0', 'Probe0', 'Pylon0', 'Gateway0', 'Assimilator0'), 27)\n",
      "\n"
     ]
    }
   ],
   "source": [
    "cmn_builds = common_builds(all_friendly_builds,0,max_build_len,n_top=10)\n",
    "for bld in cmn_builds:\n",
    "    print(bld)\n",
    "    print(\"\")"
   ]
  },
  {
   "cell_type": "markdown",
   "metadata": {},
   "source": [
    "Interesting that Terrans only showup in 1 of the top 10 most common builds. Perhaps they have more variability in how they can start their games. We can checkout the most common early builds (ie first 6 units)."
   ]
  },
  {
   "cell_type": "code",
   "execution_count": 8,
   "metadata": {
    "collapsed": false,
    "scrolled": false
   },
   "outputs": [
    {
     "ename": "NameError",
     "evalue": "name 'all_friendly_builds' is not defined",
     "output_type": "error",
     "traceback": [
      "\u001b[1;31m---------------------------------------------------------------------------\u001b[0m",
      "\u001b[1;31mNameError\u001b[0m                                 Traceback (most recent call last)",
      "\u001b[1;32m<ipython-input-8-f142f622df24>\u001b[0m in \u001b[0;36m<module>\u001b[1;34m()\u001b[0m\n\u001b[1;32m----> 1\u001b[1;33m \u001b[0mcmn_builds\u001b[0m \u001b[1;33m=\u001b[0m \u001b[0mcommon_builds\u001b[0m\u001b[1;33m(\u001b[0m\u001b[0mall_friendly_builds\u001b[0m\u001b[1;33m,\u001b[0m\u001b[1;36m0\u001b[0m\u001b[1;33m,\u001b[0m\u001b[1;36m10\u001b[0m\u001b[1;33m,\u001b[0m\u001b[0mn_top\u001b[0m\u001b[1;33m=\u001b[0m\u001b[1;36m10\u001b[0m\u001b[1;33m)\u001b[0m\u001b[1;33m\u001b[0m\u001b[0m\n\u001b[0m\u001b[0;32m      2\u001b[0m \u001b[1;32mfor\u001b[0m \u001b[0mbld\u001b[0m \u001b[1;32min\u001b[0m \u001b[0mcmn_builds\u001b[0m\u001b[1;33m:\u001b[0m\u001b[1;33m\u001b[0m\u001b[0m\n\u001b[0;32m      3\u001b[0m     \u001b[0mprint\u001b[0m\u001b[1;33m(\u001b[0m\u001b[0mbld\u001b[0m\u001b[1;33m)\u001b[0m\u001b[1;33m\u001b[0m\u001b[0m\n\u001b[0;32m      4\u001b[0m     \u001b[0mprint\u001b[0m\u001b[1;33m(\u001b[0m\u001b[1;34m\"\"\u001b[0m\u001b[1;33m)\u001b[0m\u001b[1;33m\u001b[0m\u001b[0m\n",
      "\u001b[1;31mNameError\u001b[0m: name 'all_friendly_builds' is not defined"
     ]
    }
   ],
   "source": [
    "cmn_builds = common_builds(all_friendly_builds,0,10,n_top=10)\n",
    "for bld in cmn_builds:\n",
    "    print(bld)\n",
    "    print(\"\")"
   ]
  },
  {
   "cell_type": "markdown",
   "metadata": {},
   "source": [
    "Zergs seem to have the most deterministic beginning game tech tree expansion options being far and away the top two most common opening builds, followed by Protoss, and as suspected, Terrans have more varation to their starts. Lets see how win counts and rates affect the opening 6 unit build counts. "
   ]
  },
  {
   "cell_type": "code",
   "execution_count": 18,
   "metadata": {
    "collapsed": false
   },
   "outputs": [
    {
     "name": "stdout",
     "output_type": "stream",
     "text": [
      "[('Hatchery0', 'Drone0', 'Overlord0', 'Larva0', 'Egg0', 'Extractor0', 'SpawningPool0'), 0.4968334388853705, 3138]\n",
      "\n",
      "[('Hatchery0', 'Drone0', 'Overlord0', 'Larva0', 'Egg0', 'SpawningPool0', 'Extractor0'), 0.49739039665970775, 953]\n",
      "\n",
      "[('Nexus0', 'Probe0', 'Pylon0', 'Gateway0', 'Assimilator0', 'CyberneticsCore0', 'MothershipCore0'), 0.47572815533980584, 490]\n",
      "\n",
      "[('Nexus0', 'Probe0', 'Pylon0', 'Gateway0', 'Assimilator0', 'CyberneticsCore0', 'Stargate0'), 0.48897795591182364, 488]\n",
      "\n",
      "[('Nexus0', 'Probe0', 'Pylon0', 'Gateway0', 'Assimilator0', 'CyberneticsCore0', 'Zealot0'), 0.4819277108433735, 360]\n",
      "\n",
      "[('CommandCenter0', 'SCV0', 'SupplyDepot0', 'Refinery0', 'Barracks0', 'SupplyDepotLowered0', 'Factory0'), 0.5229357798165137, 342]\n",
      "\n",
      "[('CommandCenter0', 'SCV0', 'SupplyDepot0', 'Refinery0', 'Barracks0', 'Factory0', 'OrbitalCommand0'), 0.48783977110157367, 341]\n",
      "\n",
      "[('Nexus0', 'Probe0', 'Pylon0', 'Gateway0', 'Assimilator0', 'CyberneticsCore0', 'Adept0'), 0.49319213313161875, 326]\n",
      "\n",
      "[('CommandCenter0', 'SCV0', 'SupplyDepot0', 'Refinery0', 'SupplyDepotLowered0', 'Barracks0', 'Factory0'), 0.5191956124314442, 284]\n",
      "\n",
      "[('CommandCenter0', 'SCV0', 'SupplyDepot0', 'Barracks0', 'Refinery0', 'SupplyDepotLowered0', 'OrbitalCommand0'), 0.5363457760314342, 273]\n",
      "\n"
     ]
    }
   ],
   "source": [
    "cmn_builds = common_builds(all_friendly_builds,0,6,winner=True, n_top=10)\n",
    "for bld in cmn_builds:\n",
    "    print(bld)\n",
    "    print(\"\")"
   ]
  },
  {
   "cell_type": "markdown",
   "metadata": {},
   "source": [
    "The Zerg openers have the highest number of wins due to the above mentioned limited options they have at the open, but their winrate is pretty similar to the other races typical openers at 50%. Terrans rushing to a Factory or OrbitalCommand seem to have the biggest edge in builds, but only with 52-53% winrates. These numbers will change depending on how you define how many units there are in the \"opening\" of the game (ie. 6? 7? 10?). The number of different permuations of build orders for each race becomes intractable at even small build counts. For example, assuming 3 availible expansion options at each stage in the tech tree, we could see up to 100 billion different build orders in the average build length of 23 units. Including the opponents potential builds into the order makes the numbers explode even more. There's no way we can collect enough replays to see every possible build, so we'll need to build a predictive model based on the data we do have. Below we build a RNN based sequence model in an attempt to learn patterns in our datasets build sequences to generalize to likely other build sequences we might like to investigate. With this model we can also predict the most likely next technology steps our opponent might make at any stage in a game of StarCraftII. "
   ]
  },
  {
   "cell_type": "markdown",
   "metadata": {},
   "source": [
    "<h2>Build Order Sequence Predictor</h2>"
   ]
  },
  {
   "cell_type": "markdown",
   "metadata": {},
   "source": [
    "Here we'll train an RNN model using the [tflearn](http://tflearn.org/) API for tensorflow, with some added sauce to get the most out of our model. We'll use the [Dask](https://dask.pydata.org/en/latest/) framework to build some out-of-memory numpy arrays, we'll incorporate early stopping so we back out of training once our model starts to overfit (validation score begins increasing), and we're going to use a parallelized Genetic Algorithm to evolve some of the hyperparameters of our model using the [DEAP](https://github.com/DEAP/deap) python library. The code implementing these parts are self contained in the BuildRecommender class, but we'll highlight some snippets and gotchyas here.\n",
    "\n",
    "<h3>Early Stopping</h3>\n",
    "Below is the EarlyStoppingCallback class we've adapted from the tutorial [here](http://mckinziebrandon.me/TensorflowNotebooks/2016/11/20/early-stopping.html). It allows us to define a condition at the end of each epoch we can check to end training. For our implementation, we stop training if the current epochs validation loss is larger than the best epochs training loss by more than max_val_loss_delta percent.\n",
    "\n",
    "<b>Gotchyas</b>  \n",
    "One gotchya that took a bit to figure out was returning the trained model to the program to continue training other models because the early stopping class wasn't returning anything. I ended up wrapping the tflearn training line in a StopIteration error handle to return the model when early stopping was thrown.  "
   ]
  },
  {
   "cell_type": "code",
   "execution_count": null,
   "metadata": {
    "collapsed": true
   },
   "outputs": [],
   "source": [
    "'''Training early stopping error handling snippet'''\n",
    "# Training\n",
    "early_stopping_cb = EarlyStoppingCallback(max_val_loss_delta=0.01)\n",
    "#Need to catch early stopping to return model\n",
    "try:\n",
    "    model.fit(self.trainX, self.trainY, validation_set=(self.testX, self.testY), show_metric=False,snapshot_epoch=True,\n",
    "              batch_size=128,n_epoch=self.epochs,run_id=\"%s-%s-%s-%s\" %(arch,n_units,dropout,learning_rate),\n",
    "              callbacks=early_stopping_cb)\n",
    "    return model\n",
    "except StopIteration:\n",
    "    return model\n",
    "\n",
    "class EarlyStoppingCallback(tflearn.callbacks.Callback):\n",
    "    \"\"\"\n",
    "    Early stopping class to exit training when validation loss begins increasing\n",
    "    \"\"\"\n",
    "    def __init__(self, max_val_loss_delta):\n",
    "        \"\"\"\n",
    "        best_val_loss - stores the best epochs validation loss for current val loss compariason\n",
    "                        to check if increasing. Initizalized at -inf\n",
    "        max_val_loss_delta - the maximum percent the current val loss can be above the best_val_loss \n",
    "                             without exiting training\n",
    "        \"\"\" \n",
    "        self.best_val_loss = math.inf\n",
    "        self.max_val_loss_delta = max_val_loss_delta\n",
    "    \n",
    "    def on_epoch_end(self, training_state):\n",
    "        \"\"\" \n",
    "        This is the final method called in trainer.py in the epoch loop. \n",
    "        We can stop training and leave without losing any information with a simple exception.\n",
    "        On epoch end, check if validation loss has increased by more than max_val_loss_delta, if True,\n",
    "        exit training  \n",
    "        \"\"\"\n",
    "        #check if current loss better than previous best and store\n",
    "        self.best_val_loss = min(training_state.val_loss,self.best_val_loss)\n",
    "        if (training_state.val_loss - self.best_val_loss) >= self.best_val_loss*self.max_val_loss_delta:\n",
    "            print(\"Terminating training at the end of epoch\", training_state.epoch)\n",
    "            print(\"Epoch loss = %s vs best loss = %s\" %(training_state.val_loss, self.best_val_loss))\n",
    "            raise StopIteration      \n",
    "    \n",
    "    def on_train_end(self, training_state):\n",
    "        \"\"\"\n",
    "        Furthermore, tflearn will then immediately call this method after we terminate training, \n",
    "        (or when training ends regardless). This would be a good time to store any additional \n",
    "        information that tflearn doesn't store already.\n",
    "        \"\"\"\n",
    "        print(\"Successfully left training! Final model loss:\", training_state.val_loss)"
   ]
  },
  {
   "cell_type": "markdown",
   "metadata": {},
   "source": [
    "<h3>Model Definition</h3>\n",
    "Below is the model definition and training scripts used to train the network. It takes as input some hyperparameters of the model (which could come from an evolution process...), builds the network definition using tflearns API and initiates the model fitting on the data."
   ]
  },
  {
   "cell_type": "code",
   "execution_count": null,
   "metadata": {
    "collapsed": true
   },
   "outputs": [],
   "source": [
    "def train(self, hyperparams):\n",
    "        #reset graph from previously trained iterations\n",
    "        tf.reset_default_graph()\n",
    "        if self.X == []:\n",
    "            self.make_training_data()\n",
    "        \n",
    "        self.trainX, self.testX, self.trainY, self.testY = self.preprocessing(self.X,self.y)    \n",
    "\n",
    "        # Hyperparameters\n",
    "        arch,n_units,dropout,learning_rate = hyperparams\n",
    "\n",
    "        # Network building\n",
    "        net = tflearn.input_data([None, self.max_seq_len])\n",
    "        net = tflearn.embedding(net, input_dim=len(self.vocab), output_dim=128,trainable=True)\n",
    "\n",
    "        if arch == 0:\n",
    "            net = tflearn.lstm(net, n_units=n_units,\n",
    "                               dropout=dropout,\n",
    "                               weights_init=tflearn.initializations.xavier(),return_seq=False)\n",
    "        else:\n",
    "            net = tflearn.gru(net, n_units=n_units,\n",
    "                              dropout=dropout,\n",
    "                              weights_init=tflearn.initializations.xavier(),return_seq=False)\n",
    "        net = tflearn.fully_connected(net, len(self.vocab), activation='softmax',\n",
    "                                      weights_init=tflearn.initializations.xavier())\n",
    "        net = tflearn.regression(net, optimizer='adam', learning_rate=learning_rate,\n",
    "                                 loss='categorical_crossentropy')\n",
    "        model = tflearn.DNN(net, tensorboard_verbose=2,\n",
    "                            tensorboard_dir='C:/Users/macle/Desktop/Open Source Projects/autocraft/EDA/tensorboard')       \n",
    "\n",
    "        # Training\n",
    "        early_stopping_cb = EarlyStoppingCallback(max_val_loss_delta=0.01)\n",
    "        #Need to catch early stopping to return model\n",
    "        try:\n",
    "            model.fit(self.trainX, self.trainY, validation_set=(self.testX, self.testY), show_metric=False,snapshot_epoch=True,\n",
    "                      batch_size=128,n_epoch=self.epochs,run_id=\"%s-%s-%s-%s\" %(arch,n_units,dropout,learning_rate),\n",
    "                      callbacks=early_stopping_cb)\n",
    "            return model\n",
    "        except StopIteration:\n",
    "            return model"
   ]
  },
  {
   "cell_type": "markdown",
   "metadata": {},
   "source": [
    "<h3>Hyperparameter Evolution</h3>\n",
    "Below is the hyperparameter's evolve function, which was modified only slightly from the DEAP overview tutorial [here](https://deap.readthedocs.io/en/master/overview.html) We're going to evolve 4 hyperparameters of the model - The RNN cell architecture (LSTM or GRU), the number of units in the recurrent layer, the dropout and the learning rate.\n",
    "\n",
    "<b>Gotchyas</b>  \n",
    "In order to run on multiple processors, the DEAP framework requires the evolve creator object and evolve function to be in the global scope of the main script, so these are not methods of the BuildRecommender class, they are seperate and in the global scope of the script."
   ]
  },
  {
   "cell_type": "code",
   "execution_count": null,
   "metadata": {
    "collapsed": true
   },
   "outputs": [],
   "source": [
    "#DEAP creator definition needs to be in global scope to parallelize\n",
    "creator.create(\"FitnessMax\", base.Fitness, weights=(1.0,))\n",
    "#Individual represented as list of 4 floats \n",
    "#(arch,n_units,dropout,learning_rate)\n",
    "#arch is the cell architecture 0 = lstm, 1 = gru\n",
    "#floats are later decoded to appropriate sizes\n",
    "#for each hyperparamter\n",
    "IND_SIZE=4\n",
    "creator.create(\"Individual\", list, fitness=creator.FitnessMax)\n",
    "\n",
    "def evolve(builder,n_pop,co_prob,mut_prob,n_generations):\n",
    "        '''Evolve the models hyperarameters (arch,n_units,dropout,learning_rate)'''\n",
    "\n",
    "        toolbox = base.Toolbox()\n",
    "        #Setup fitness (maximize val_loss)\n",
    "        toolbox.register(\"attr_float\", random.random)\n",
    "        toolbox.register(\"individual\", tools.initRepeat, creator.Individual,\n",
    "                         toolbox.attr_float, n=IND_SIZE)\n",
    "        toolbox.register(\"mate\", tools.cxTwoPoint)\n",
    "        toolbox.register(\"mutate\", tools.mutGaussian, mu=0, sigma=0.5, indpb=0.1)\n",
    "        toolbox.register(\"select\", tools.selTournament, tournsize=3)\n",
    "        toolbox.register(\"evaluate\", builder.evaluate)\n",
    "        toolbox.register(\"population\", tools.initRepeat, list, toolbox.individual)\n",
    "\n",
    "        #assign the number of processors to run parallel fitness evaluations on\n",
    "        pool = multiprocessing.Pool(16)\n",
    "        toolbox.register(\"map\", pool.map)\n",
    "\n",
    "        pop = toolbox.population(n=n_pop)\n",
    "        best_ind = pop[0]\n",
    "        best_fit = -math.inf\n",
    "\n",
    "        # Evaluate the entire population\n",
    "        fitnesses = list(toolbox.map(toolbox.evaluate, pop))\n",
    "        for ind, fit in zip(pop, fitnesses):\n",
    "            print(\"Evaluating %s\" %ind)\n",
    "            ind.fitness.values = fit\n",
    "\n",
    "        for g in range(n_generations):\n",
    "            print(\"Running generation %s\" %(g))\n",
    "            # Select the next generation individuals\n",
    "            offspring = toolbox.select(pop, len(pop))\n",
    "            # Clone the selected individuals\n",
    "            offspring = list(map(toolbox.clone, offspring))\n",
    "\n",
    "            # Apply crossover and mutation on the offspring\n",
    "            for child1, child2 in zip(offspring[::2], offspring[1::2]):\n",
    "                if random.random() < co_prob:\n",
    "                    toolbox.mate(child1, child2)\n",
    "                    del child1.fitness.values\n",
    "                    del child2.fitness.values\n",
    "\n",
    "            for mutant in offspring:\n",
    "                if random.random() < mut_prob:\n",
    "                    toolbox.mutate(mutant)\n",
    "                    del mutant.fitness.values\n",
    "\n",
    "            # Evaluate the individuals with an invalid fitness\n",
    "            invalid_ind = [ind for ind in offspring if not ind.fitness.valid]\n",
    "            fitnesses = list(toolbox.map(toolbox.evaluate, pop))\n",
    "            for ind, fit in zip(invalid_ind, fitnesses):\n",
    "                ind.fitness.values = fit\n",
    "                #keep the single best perfoming ind through all gens\n",
    "                if fit[0] > best_fit:\n",
    "                    best_ind = ind\n",
    "                    best_fit = fit[0]\n",
    "\n",
    "            # The population is entirely replaced by the offspring\n",
    "            pop[:] = offspring\n",
    "        return best_ind"
   ]
  },
  {
   "cell_type": "markdown",
   "metadata": {},
   "source": [
    "The above evolution process was used for 5 generations of 16 individuals on an AWS instance with only 5% of the data to identify the best individual hyperparameters, which ended up being: [1,333,0.65,0.0055]. We'll use these hyperparameters to train a final model on the total dataset. Extending the hyperparameter evolution from 5% of the dataset to the whole thing is a big assumption, and the model would likely perform better if we evolved the hyperparameters on the full data, but for the sake of time we'll use the smaller evolved hyperparameters as a proxy for the final model's. It turned out that the learning rate for the evolved network was to large, so we've added an extra 0 to it to train on the full dataset."
   ]
  },
  {
   "cell_type": "code",
   "execution_count": 6,
   "metadata": {
    "collapsed": false,
    "scrolled": false
   },
   "outputs": [
    {
     "name": "stdout",
     "output_type": "stream",
     "text": [
      "Training Step: 32009  | total loss: \u001b[1m\u001b[32m2.67556\u001b[0m\u001b[0m | time: 6093.463s\n",
      "| Adam | epoch: 005 | loss: 2.67556 -- iter: 819328/819441\n",
      "Training Step: 32010  | total loss: \u001b[1m\u001b[32m2.64712\u001b[0m\u001b[0m | time: 6358.537s\n",
      "| Adam | epoch: 005 | loss: 2.64712 | val_loss: 2.51044 -- iter: 819441/819441\n",
      "--\n",
      "Successfully left training! Final model loss: 2.51044451435\n"
     ]
    }
   ],
   "source": [
    "builder = BuildRecommender(\"replay_state_data\",'build_orders.json',\n",
    "                           down_sample=1)\n",
    "builder.model = builder.train(hyperparams=[1,333,0.65,0.00055])"
   ]
  },
  {
   "cell_type": "code",
   "execution_count": 7,
   "metadata": {
    "collapsed": false
   },
   "outputs": [
    {
     "name": "stderr",
     "output_type": "stream",
     "text": [
      "c:\\python35\\lib\\site-packages\\dask\\core.py:306: FutureWarning: elementwise comparison failed; returning scalar instead, but in the future will perform elementwise comparison\n",
      "  elif type_arg is type(key) and arg == key:\n"
     ]
    },
    {
     "data": {
      "text/plain": [
       "0.35719829542609255"
      ]
     },
     "execution_count": 7,
     "metadata": {},
     "output_type": "execute_result"
    }
   ],
   "source": [
    "model_score = builder.model.evaluate(builder.testX, builder.testY)[0]\n",
    "model_score"
   ]
  },
  {
   "cell_type": "markdown",
   "metadata": {},
   "source": [
    "The model only trains for 5 epochs on the full dataset, so there might be potential to squeek out even better performance with smaller learning rates, but the performance of this model is actually already impressive, getting 36% of the predicted next unit exactly correct. Using some further heuristics like only predicting units that exist in the race of the player we're predicting for should increase this number even further."
   ]
  },
  {
   "cell_type": "markdown",
   "metadata": {},
   "source": [
    "<h2>Using the Model</h2>\n",
    "Now that we have a trained model capable of predicting the sequence of builds in StarCraftII, we can use it to make predictions of how games will develop starting from arbitrary initial builds. Lets first check the most common build we discovered above - zerg rush to Banelings. We'll input the sequence of builds leading up to banelings and hopefully our model will predict correctly."
   ]
  },
  {
   "cell_type": "code",
   "execution_count": 12,
   "metadata": {
    "collapsed": false
   },
   "outputs": [
    {
     "data": {
      "text/plain": [
       "['Baneling0']"
      ]
     },
     "execution_count": 12,
     "metadata": {},
     "output_type": "execute_result"
    }
   ],
   "source": [
    "builder.load_graph()\n",
    "rec_build = builder.predict_build(['Hatchery0', 'Drone0', 'Overlord0', 'Larva0', 'Egg0',\n",
    "                                   'Extractor0', 'SpawningPool0', 'Zergling0', 'Queen0',\n",
    "                                   'BanelingNest0', 'BanelingCocoon0'],1,races=['Zerg0','Terran1'])\n",
    "rec_build"
   ]
  },
  {
   "cell_type": "markdown",
   "metadata": {},
   "source": [
    "Nailed it! Looks like, at the very least, our model has discovered the most common build. Lets see how each race starts look."
   ]
  },
  {
   "cell_type": "code",
   "execution_count": 13,
   "metadata": {
    "collapsed": false
   },
   "outputs": [
    {
     "data": {
      "text/plain": [
       "['SCV0',\n",
       " 'SupplyDepot0',\n",
       " 'Refinery0',\n",
       " 'Barracks0',\n",
       " 'SupplyDepotLowered0',\n",
       " 'Factory0']"
      ]
     },
     "execution_count": 13,
     "metadata": {},
     "output_type": "execute_result"
    }
   ],
   "source": [
    "builder.predict_build(['CommandCenter0'],6,races=['Terran0','Zerg1'])"
   ]
  },
  {
   "cell_type": "code",
   "execution_count": 14,
   "metadata": {
    "collapsed": false
   },
   "outputs": [
    {
     "data": {
      "text/plain": [
       "['Drone0', 'Overlord0', 'Larva0', 'Egg0', 'Extractor0', 'SpawningPool0']"
      ]
     },
     "execution_count": 14,
     "metadata": {},
     "output_type": "execute_result"
    }
   ],
   "source": [
    "builder.predict_build(['Hatchery0'],6,races=['Zerg0','Protoss1'])"
   ]
  },
  {
   "cell_type": "code",
   "execution_count": 17,
   "metadata": {
    "collapsed": false
   },
   "outputs": [
    {
     "data": {
      "text/plain": [
       "['Probe0', 'Pylon0', 'Gateway0', 'Assimilator0', 'CyberneticsCore0', 'Zealot0']"
      ]
     },
     "execution_count": 17,
     "metadata": {},
     "output_type": "execute_result"
    }
   ],
   "source": [
    "builder.predict_build(['Nexus0'],6,races=['Protoss0','Zerg1'])"
   ]
  },
  {
   "cell_type": "markdown",
   "metadata": {},
   "source": [
    "Those builds seem pretty sensible to me, looks like our model has correctly captured how each race normally expands their tech tree. The text interface we're using here isn't very user friendly, so we'll build a super simple visualization and webapp so people can play with the model and make their own builds."
   ]
  },
  {
   "cell_type": "markdown",
   "metadata": {},
   "source": [
    "<h2>Webapp</h2>\n",
    "Using the final model built above, I threw together a simple webapp so users can discover and visualize their own custom StarCraftII build orders. The webapp can be played with [here](http://ponderinghydrogen.pythonanywhere.com/sc2). Note that the app makes an single inference from the model for each unit added to the build order, so large build orders can take a looong time to process.\n",
    "\n",
    "![webapp](webapp.png)"
   ]
  },
  {
   "cell_type": "markdown",
   "metadata": {},
   "source": [
    "<h2>Conclusions</h2>\n",
    "There were three main goals of this project:\n",
    "1. Build familiarity with the pySC2 API and data\n",
    "2. Develop a StarCraftII build order predictive model  \n",
    "3. Learn and test the applications of Genetic Algorithms to neural network hyperparameter optimization\n",
    "\n",
    "Another final goal was to have fun with it! I think I accomplished all of those goals, and am pretty impressed by the deep learning scaffolding I've built-up: from data-munging and representation to model definitions and now hyperparameter evolutions. I think next steps will be to bring these skills into a Reinforcement Learning (RL) project and see if I can start training a StarCraftII bot to play the game!\n",
    "\n",
    "<h2>Limitations and Future Work</h2>\n",
    "<b>Unique Unit Builds and Upgrades</b>  \n",
    "The build orders in this project are only unique units/tech tree expansions seen as the game progresses, where in reality the number of buildings/units you create is very important (ie. 2/3 Barracks' built in the early game). Another missing component in the tech stack is researched capabilities and upgrades a player can build to boost their units strength. To get a more accurate representation of the StarCraftII's build order meta, these components will need to be included.\n",
    "\n",
    "<b>Hyperparameter Evolving</b>  \n",
    "There are many other hyperparameters in the model that could be evolved like activation functions (aside: There's an interesting conversation happening on [r/MachineLearning](https://www.reddit.com/r/MachineLearning/comments/773epu/r_swish_a_selfgated_activation_function_google/) about these right now), the number of layers, embedding dimensions etc. Our evolutionary method actually has more hyperparameters to tune then the ones we're actually tuning! (ie. crossover, muatation rates and all the other turtles). We also only allowed the evolution process to continue for 5 generations, which may not be enough to discover really good hyperparameter combinations, but I still prefer this over grid/random search methods. To really get the most out of this approach, we should probably tune our hyperparameters using the full dataset and let the process run for a longer period, plus adding in more of the hyperparameters of the model.\n",
    "\n",
    "<b>Optimal Build Order</b>  \n",
    "Although our model is capable of capturing the likely build orders of Platinum and above players, it doesn't actually incorporate winrates or a concept of optimality in the builds. This project could be extended to an RL setting where a model could be trained capable of learning an optimal policy and a learned value function that estimates the probability of winning given the current state of the game. This problem would likely be a good use case for Actor-Critic methods that learn policy and value functions together, such as the one Google is seeing substantial successes in with [AlphaGo.](https://deepmind.com/blog/alphago-zero-learning-scratch/)\n",
    "\n",
    "<b>The Changing Meta</b>  \n",
    "Updates to StarCraftII are continually being made to add new content and balance units. This causes the advantages of units and build orders to change over time as the game evolves. The method developed in this post could be extended to predict the impact game changes might have on build metas and potentially identify new, successful builds before opponents do to give players an extra edge in the game."
   ]
  }
 ],
 "metadata": {
  "kernelspec": {
   "display_name": "Python 3",
   "language": "python",
   "name": "python3"
  },
  "language_info": {
   "codemirror_mode": {
    "name": "ipython",
    "version": 3
   },
   "file_extension": ".py",
   "mimetype": "text/x-python",
   "name": "python",
   "nbconvert_exporter": "python",
   "pygments_lexer": "ipython3",
   "version": "3.5.2"
  }
 },
 "nbformat": 4,
 "nbformat_minor": 2
}
